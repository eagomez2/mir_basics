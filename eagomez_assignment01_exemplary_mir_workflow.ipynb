{
  "nbformat": 4,
  "nbformat_minor": 0,
  "metadata": {
    "colab": {
      "name": "eagomez_assignment01-exemplary_mir_workflow.ipynb",
      "provenance": [],
      "collapsed_sections": [],
      "toc_visible": true,
      "authorship_tag": "ABX9TyOSD81jjXMNPPXJ3MGA2z8B",
      "include_colab_link": true
    },
    "kernelspec": {
      "name": "python3",
      "display_name": "Python 3"
    }
  },
  "cells": [
    {
      "cell_type": "markdown",
      "metadata": {
        "id": "view-in-github",
        "colab_type": "text"
      },
      "source": [
        "<a href=\"https://colab.research.google.com/github/eagomez2/mir_basics/blob/main/eagomez_assignment01_exemplary_mir_workflow.ipynb\" target=\"_parent\"><img src=\"https://colab.research.google.com/assets/colab-badge.svg\" alt=\"Open In Colab\"/></a>"
      ]
    },
    {
      "cell_type": "markdown",
      "metadata": {
        "id": "XiHrTgbQXxde"
      },
      "source": [
        "# MIR assignment 01 - Basic flow in an exemplary MIR classification research task "
      ]
    },
    {
      "cell_type": "markdown",
      "metadata": {
        "id": "JiCRomFObT5O"
      },
      "source": [
        "## Instructions\n",
        "In this assignment you should understand and reproduce the instrument classification experiment presented in [this jupyter notebook](https://github.com/MTG/MIRCourse/blob/master/notebooks/Lecture1_IntroWithACaseStudy.ipynb), and then adapt the notebook to another instrument classification task, one using the [Mridangam Stroke dataset](https://zenodo.org/record/4068196). The goal is to automatically recognize the 10 different stroke classes or the 6 different tonic classes present in the dataset (you choose), trying to obtain the best possible accuracy. For both tasks you should use the whole dataset.  \n",
        "\n",
        "The goal of the assignment is to understand and be able to implement all the steps involved in a typical audio-based classification problem. Thus, understanding all the steps involved in designing the experiment and making the best choices for a given task. You should briefly explain within the submitted notebook, all the decisions taken in every step of the experiment.  \n",
        "\n",
        "You can optionally add a step of feature selection. Feature selection is the removal of redundancies in features, lowering the dimensionality of the feature space. Effective feature selection can improve performance of a classifier and would lower memory and computation requirements.\n",
        "\n",
        "- Increase the number of classes to 8 (either use more classes from UIOWA:MIS dataset or continue with the Mridangam dataset)\n",
        "\n",
        "- Add a feature selection step in the process (most critical part)\n",
        "\n",
        "- Observe and report its contribution, discuss your observations"
      ]
    },
    {
      "cell_type": "markdown",
      "metadata": {
        "id": "Lpcj6CrKbusq"
      },
      "source": [
        "## About the structure of this notebook\n",
        "\n",
        "The author has chosen to implement the necessary code for the following tasks:\n",
        "1. Tonic classification of the Mridangam Stroke dataset\n",
        "2. Stroke classification of the Mridangam Stroke dataset\n",
        "\n",
        "Additionally, some techniques for **feature selection** and **class imbalance** are addressed to evaluate their impact in the aforementioned tasks."
      ]
    },
    {
      "cell_type": "markdown",
      "metadata": {
        "id": "xpdafhXEg58X"
      },
      "source": [
        "# Dataset acquisition  \n",
        "The code in the following sections downloads and uncompresses the Mridangam Stroke dataset, locating it inside the corresponding folder for reading and further processing of the audio files.  \n",
        "\n",
        "The dataset is comprised of 6 tonic classes and 10 stroke classes named under the following conventions:\n",
        "\n",
        "> \\<StrokeName>\\_\\<Tonic>_\\<InstanceNumber>.wav  \n",
        "> \\<Tonic> = {B, C, Csh, D, Dsh, E}  \n",
        "> \\<StrokeName> = {Bheem, Cha, Dheem, Dhin, Num, Ta, Tha, Tham, Thi, Thom}\n",
        "\n",
        "Additional description about the dataset can be found [here](https://zenodo.org/record/4068196#.YBINk3dKjQg)."
      ]
    },
    {
      "cell_type": "markdown",
      "metadata": {
        "id": "Qfh8u0jpiFRk"
      },
      "source": [
        "## Installing Essentia  \n",
        "Essentia is an open-source library and tools for audio and music analysis, description and synthesis whose documentation can be found [here](https://essentia.upf.edu/)."
      ]
    },
    {
      "cell_type": "code",
      "metadata": {
        "colab": {
          "base_uri": "https://localhost:8080/"
        },
        "id": "rrNPkqK6b1gY",
        "outputId": "e2239b1d-e29c-40f8-8d5c-9538666a9dbe"
      },
      "source": [
        "# Installs Essentia if it's not installed yet\n",
        "import importlib.util\n",
        "if importlib.util.find_spec('essentia') is None:\n",
        "  !pip install essentia"
      ],
      "execution_count": 1,
      "outputs": [
        {
          "output_type": "stream",
          "text": [
            "Collecting essentia\n",
            "\u001b[?25l  Downloading https://files.pythonhosted.org/packages/c7/38/97727f544712a2b0c1d7fcbf220b05fae257ae869adb5c0c33f486201528/essentia-2.1b6.dev374-cp36-cp36m-manylinux1_x86_64.whl (12.0MB)\n",
            "\u001b[K     |████████████████████████████████| 12.0MB 9.5MB/s \n",
            "\u001b[?25hRequirement already satisfied: pyyaml in /usr/local/lib/python3.6/dist-packages (from essentia) (3.13)\n",
            "Requirement already satisfied: numpy>=1.8.2 in /usr/local/lib/python3.6/dist-packages (from essentia) (1.19.5)\n",
            "Requirement already satisfied: six in /usr/local/lib/python3.6/dist-packages (from essentia) (1.15.0)\n",
            "Installing collected packages: essentia\n",
            "Successfully installed essentia-2.1b6.dev374\n"
          ],
          "name": "stdout"
        }
      ]
    },
    {
      "cell_type": "code",
      "metadata": {
        "id": "4osWVo3NiQ6g"
      },
      "source": [
        ""
      ],
      "execution_count": null,
      "outputs": []
    }
  ]
}