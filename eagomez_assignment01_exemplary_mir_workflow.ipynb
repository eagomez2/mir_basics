{
  "nbformat": 4,
  "nbformat_minor": 0,
  "metadata": {
    "colab": {
      "name": "eagomez_assignment01-exemplary_mir_workflow.ipynb",
      "provenance": [],
      "collapsed_sections": [],
      "authorship_tag": "ABX9TyNvlaALi25eNIrnNVZwpIDb",
      "include_colab_link": true
    },
    "kernelspec": {
      "name": "python3",
      "display_name": "Python 3"
    },
    "widgets": {
      "application/vnd.jupyter.widget-state+json": {
        "0b073a8a0d0248b590dcd71af1ca22fc": {
          "model_module": "@jupyter-widgets/controls",
          "model_name": "HBoxModel",
          "state": {
            "_view_name": "HBoxView",
            "_dom_classes": [],
            "_model_name": "HBoxModel",
            "_view_module": "@jupyter-widgets/controls",
            "_model_module_version": "1.5.0",
            "_view_count": null,
            "_view_module_version": "1.5.0",
            "box_style": "",
            "layout": "IPY_MODEL_fa27b0ca78d6473f8bfb1d6e5d4a5e81",
            "_model_module": "@jupyter-widgets/controls",
            "children": [
              "IPY_MODEL_d2d8f15cd4c044a5b0ef764f57c9c57a",
              "IPY_MODEL_1c195d0cfd4f46009e26c12c9741f973"
            ]
          }
        },
        "fa27b0ca78d6473f8bfb1d6e5d4a5e81": {
          "model_module": "@jupyter-widgets/base",
          "model_name": "LayoutModel",
          "state": {
            "_view_name": "LayoutView",
            "grid_template_rows": null,
            "right": null,
            "justify_content": null,
            "_view_module": "@jupyter-widgets/base",
            "overflow": null,
            "_model_module_version": "1.2.0",
            "_view_count": null,
            "flex_flow": null,
            "width": null,
            "min_width": null,
            "border": null,
            "align_items": null,
            "bottom": null,
            "_model_module": "@jupyter-widgets/base",
            "top": null,
            "grid_column": null,
            "overflow_y": null,
            "overflow_x": null,
            "grid_auto_flow": null,
            "grid_area": null,
            "grid_template_columns": null,
            "flex": null,
            "_model_name": "LayoutModel",
            "justify_items": null,
            "grid_row": null,
            "max_height": null,
            "align_content": null,
            "visibility": null,
            "align_self": null,
            "height": null,
            "min_height": null,
            "padding": null,
            "grid_auto_rows": null,
            "grid_gap": null,
            "max_width": null,
            "order": null,
            "_view_module_version": "1.2.0",
            "grid_template_areas": null,
            "object_position": null,
            "object_fit": null,
            "grid_auto_columns": null,
            "margin": null,
            "display": null,
            "left": null
          }
        },
        "d2d8f15cd4c044a5b0ef764f57c9c57a": {
          "model_module": "@jupyter-widgets/controls",
          "model_name": "FloatProgressModel",
          "state": {
            "_view_name": "ProgressView",
            "style": "IPY_MODEL_55e9d7bbbbf149a6a5ff853be7a5f062",
            "_dom_classes": [],
            "description": "",
            "_model_name": "FloatProgressModel",
            "bar_style": "success",
            "max": 127227.2578125,
            "_view_module": "@jupyter-widgets/controls",
            "_model_module_version": "1.5.0",
            "value": 127227.2578125,
            "_view_count": null,
            "_view_module_version": "1.5.0",
            "orientation": "horizontal",
            "min": 0,
            "description_tooltip": null,
            "_model_module": "@jupyter-widgets/controls",
            "layout": "IPY_MODEL_eba85a6dd19045c0a7026392664df319"
          }
        },
        "1c195d0cfd4f46009e26c12c9741f973": {
          "model_module": "@jupyter-widgets/controls",
          "model_name": "HTMLModel",
          "state": {
            "_view_name": "HTMLView",
            "style": "IPY_MODEL_18c04d54618a49d0b9b702982d987a08",
            "_dom_classes": [],
            "description": "",
            "_model_name": "HTMLModel",
            "placeholder": "​",
            "_view_module": "@jupyter-widgets/controls",
            "_model_module_version": "1.5.0",
            "value": " 127228/? [00:02&lt;00:00, 52667.56MB/s]",
            "_view_count": null,
            "_view_module_version": "1.5.0",
            "description_tooltip": null,
            "_model_module": "@jupyter-widgets/controls",
            "layout": "IPY_MODEL_7a7d900d0f24464a919f28ef0cb9e451"
          }
        },
        "55e9d7bbbbf149a6a5ff853be7a5f062": {
          "model_module": "@jupyter-widgets/controls",
          "model_name": "ProgressStyleModel",
          "state": {
            "_view_name": "StyleView",
            "_model_name": "ProgressStyleModel",
            "description_width": "initial",
            "_view_module": "@jupyter-widgets/base",
            "_model_module_version": "1.5.0",
            "_view_count": null,
            "_view_module_version": "1.2.0",
            "bar_color": null,
            "_model_module": "@jupyter-widgets/controls"
          }
        },
        "eba85a6dd19045c0a7026392664df319": {
          "model_module": "@jupyter-widgets/base",
          "model_name": "LayoutModel",
          "state": {
            "_view_name": "LayoutView",
            "grid_template_rows": null,
            "right": null,
            "justify_content": null,
            "_view_module": "@jupyter-widgets/base",
            "overflow": null,
            "_model_module_version": "1.2.0",
            "_view_count": null,
            "flex_flow": null,
            "width": null,
            "min_width": null,
            "border": null,
            "align_items": null,
            "bottom": null,
            "_model_module": "@jupyter-widgets/base",
            "top": null,
            "grid_column": null,
            "overflow_y": null,
            "overflow_x": null,
            "grid_auto_flow": null,
            "grid_area": null,
            "grid_template_columns": null,
            "flex": null,
            "_model_name": "LayoutModel",
            "justify_items": null,
            "grid_row": null,
            "max_height": null,
            "align_content": null,
            "visibility": null,
            "align_self": null,
            "height": null,
            "min_height": null,
            "padding": null,
            "grid_auto_rows": null,
            "grid_gap": null,
            "max_width": null,
            "order": null,
            "_view_module_version": "1.2.0",
            "grid_template_areas": null,
            "object_position": null,
            "object_fit": null,
            "grid_auto_columns": null,
            "margin": null,
            "display": null,
            "left": null
          }
        },
        "18c04d54618a49d0b9b702982d987a08": {
          "model_module": "@jupyter-widgets/controls",
          "model_name": "DescriptionStyleModel",
          "state": {
            "_view_name": "StyleView",
            "_model_name": "DescriptionStyleModel",
            "description_width": "",
            "_view_module": "@jupyter-widgets/base",
            "_model_module_version": "1.5.0",
            "_view_count": null,
            "_view_module_version": "1.2.0",
            "_model_module": "@jupyter-widgets/controls"
          }
        },
        "7a7d900d0f24464a919f28ef0cb9e451": {
          "model_module": "@jupyter-widgets/base",
          "model_name": "LayoutModel",
          "state": {
            "_view_name": "LayoutView",
            "grid_template_rows": null,
            "right": null,
            "justify_content": null,
            "_view_module": "@jupyter-widgets/base",
            "overflow": null,
            "_model_module_version": "1.2.0",
            "_view_count": null,
            "flex_flow": null,
            "width": null,
            "min_width": null,
            "border": null,
            "align_items": null,
            "bottom": null,
            "_model_module": "@jupyter-widgets/base",
            "top": null,
            "grid_column": null,
            "overflow_y": null,
            "overflow_x": null,
            "grid_auto_flow": null,
            "grid_area": null,
            "grid_template_columns": null,
            "flex": null,
            "_model_name": "LayoutModel",
            "justify_items": null,
            "grid_row": null,
            "max_height": null,
            "align_content": null,
            "visibility": null,
            "align_self": null,
            "height": null,
            "min_height": null,
            "padding": null,
            "grid_auto_rows": null,
            "grid_gap": null,
            "max_width": null,
            "order": null,
            "_view_module_version": "1.2.0",
            "grid_template_areas": null,
            "object_position": null,
            "object_fit": null,
            "grid_auto_columns": null,
            "margin": null,
            "display": null,
            "left": null
          }
        },
        "cd0e83d9ad4d473c8cd459ca59d8f292": {
          "model_module": "@jupyter-widgets/controls",
          "model_name": "HBoxModel",
          "state": {
            "_view_name": "HBoxView",
            "_dom_classes": [],
            "_model_name": "HBoxModel",
            "_view_module": "@jupyter-widgets/controls",
            "_model_module_version": "1.5.0",
            "_view_count": null,
            "_view_module_version": "1.5.0",
            "box_style": "",
            "layout": "IPY_MODEL_f732c50d675448f5a76a6b6ceb99d52a",
            "_model_module": "@jupyter-widgets/controls",
            "children": [
              "IPY_MODEL_f3f260cfa0c3485ba91c631a870dc7c2",
              "IPY_MODEL_e7b8880c2902412a9657e813196cabff"
            ]
          }
        },
        "f732c50d675448f5a76a6b6ceb99d52a": {
          "model_module": "@jupyter-widgets/base",
          "model_name": "LayoutModel",
          "state": {
            "_view_name": "LayoutView",
            "grid_template_rows": null,
            "right": null,
            "justify_content": null,
            "_view_module": "@jupyter-widgets/base",
            "overflow": null,
            "_model_module_version": "1.2.0",
            "_view_count": null,
            "flex_flow": null,
            "width": null,
            "min_width": null,
            "border": null,
            "align_items": null,
            "bottom": null,
            "_model_module": "@jupyter-widgets/base",
            "top": null,
            "grid_column": null,
            "overflow_y": null,
            "overflow_x": null,
            "grid_auto_flow": null,
            "grid_area": null,
            "grid_template_columns": null,
            "flex": null,
            "_model_name": "LayoutModel",
            "justify_items": null,
            "grid_row": null,
            "max_height": null,
            "align_content": null,
            "visibility": null,
            "align_self": null,
            "height": null,
            "min_height": null,
            "padding": null,
            "grid_auto_rows": null,
            "grid_gap": null,
            "max_width": null,
            "order": null,
            "_view_module_version": "1.2.0",
            "grid_template_areas": null,
            "object_position": null,
            "object_fit": null,
            "grid_auto_columns": null,
            "margin": null,
            "display": null,
            "left": null
          }
        },
        "f3f260cfa0c3485ba91c631a870dc7c2": {
          "model_module": "@jupyter-widgets/controls",
          "model_name": "FloatProgressModel",
          "state": {
            "_view_name": "ProgressView",
            "style": "IPY_MODEL_8587904c83dd4ae392ff90f68d04a64b",
            "_dom_classes": [],
            "description": "",
            "_model_name": "FloatProgressModel",
            "bar_style": "success",
            "max": 1,
            "_view_module": "@jupyter-widgets/controls",
            "_model_module_version": "1.5.0",
            "value": 1,
            "_view_count": null,
            "_view_module_version": "1.5.0",
            "orientation": "horizontal",
            "min": 0,
            "description_tooltip": null,
            "_model_module": "@jupyter-widgets/controls",
            "layout": "IPY_MODEL_6022d980a21f41ebb2a55e10783819bc"
          }
        },
        "e7b8880c2902412a9657e813196cabff": {
          "model_module": "@jupyter-widgets/controls",
          "model_name": "HTMLModel",
          "state": {
            "_view_name": "HTMLView",
            "style": "IPY_MODEL_737c0551f57f407599342e05d1cf64a7",
            "_dom_classes": [],
            "description": "",
            "_model_name": "HTMLModel",
            "placeholder": "​",
            "_view_module": "@jupyter-widgets/controls",
            "_model_module_version": "1.5.0",
            "value": " 30/? [14:27&lt;00:00, 28.91s/MB]",
            "_view_count": null,
            "_view_module_version": "1.5.0",
            "description_tooltip": null,
            "_model_module": "@jupyter-widgets/controls",
            "layout": "IPY_MODEL_9f2c5ba47697464b800523ae56f3cdc1"
          }
        },
        "8587904c83dd4ae392ff90f68d04a64b": {
          "model_module": "@jupyter-widgets/controls",
          "model_name": "ProgressStyleModel",
          "state": {
            "_view_name": "StyleView",
            "_model_name": "ProgressStyleModel",
            "description_width": "initial",
            "_view_module": "@jupyter-widgets/base",
            "_model_module_version": "1.5.0",
            "_view_count": null,
            "_view_module_version": "1.2.0",
            "bar_color": null,
            "_model_module": "@jupyter-widgets/controls"
          }
        },
        "6022d980a21f41ebb2a55e10783819bc": {
          "model_module": "@jupyter-widgets/base",
          "model_name": "LayoutModel",
          "state": {
            "_view_name": "LayoutView",
            "grid_template_rows": null,
            "right": null,
            "justify_content": null,
            "_view_module": "@jupyter-widgets/base",
            "overflow": null,
            "_model_module_version": "1.2.0",
            "_view_count": null,
            "flex_flow": null,
            "width": null,
            "min_width": null,
            "border": null,
            "align_items": null,
            "bottom": null,
            "_model_module": "@jupyter-widgets/base",
            "top": null,
            "grid_column": null,
            "overflow_y": null,
            "overflow_x": null,
            "grid_auto_flow": null,
            "grid_area": null,
            "grid_template_columns": null,
            "flex": null,
            "_model_name": "LayoutModel",
            "justify_items": null,
            "grid_row": null,
            "max_height": null,
            "align_content": null,
            "visibility": null,
            "align_self": null,
            "height": null,
            "min_height": null,
            "padding": null,
            "grid_auto_rows": null,
            "grid_gap": null,
            "max_width": null,
            "order": null,
            "_view_module_version": "1.2.0",
            "grid_template_areas": null,
            "object_position": null,
            "object_fit": null,
            "grid_auto_columns": null,
            "margin": null,
            "display": null,
            "left": null
          }
        },
        "737c0551f57f407599342e05d1cf64a7": {
          "model_module": "@jupyter-widgets/controls",
          "model_name": "DescriptionStyleModel",
          "state": {
            "_view_name": "StyleView",
            "_model_name": "DescriptionStyleModel",
            "description_width": "",
            "_view_module": "@jupyter-widgets/base",
            "_model_module_version": "1.5.0",
            "_view_count": null,
            "_view_module_version": "1.2.0",
            "_model_module": "@jupyter-widgets/controls"
          }
        },
        "9f2c5ba47697464b800523ae56f3cdc1": {
          "model_module": "@jupyter-widgets/base",
          "model_name": "LayoutModel",
          "state": {
            "_view_name": "LayoutView",
            "grid_template_rows": null,
            "right": null,
            "justify_content": null,
            "_view_module": "@jupyter-widgets/base",
            "overflow": null,
            "_model_module_version": "1.2.0",
            "_view_count": null,
            "flex_flow": null,
            "width": null,
            "min_width": null,
            "border": null,
            "align_items": null,
            "bottom": null,
            "_model_module": "@jupyter-widgets/base",
            "top": null,
            "grid_column": null,
            "overflow_y": null,
            "overflow_x": null,
            "grid_auto_flow": null,
            "grid_area": null,
            "grid_template_columns": null,
            "flex": null,
            "_model_name": "LayoutModel",
            "justify_items": null,
            "grid_row": null,
            "max_height": null,
            "align_content": null,
            "visibility": null,
            "align_self": null,
            "height": null,
            "min_height": null,
            "padding": null,
            "grid_auto_rows": null,
            "grid_gap": null,
            "max_width": null,
            "order": null,
            "_view_module_version": "1.2.0",
            "grid_template_areas": null,
            "object_position": null,
            "object_fit": null,
            "grid_auto_columns": null,
            "margin": null,
            "display": null,
            "left": null
          }
        }
      }
    }
  },
  "cells": [
    {
      "cell_type": "markdown",
      "metadata": {
        "id": "view-in-github",
        "colab_type": "text"
      },
      "source": [
        "<a href=\"https://colab.research.google.com/github/eagomez2/mir_basics/blob/main/eagomez_assignment01_exemplary_mir_workflow.ipynb\" target=\"_parent\"><img src=\"https://colab.research.google.com/assets/colab-badge.svg\" alt=\"Open In Colab\"/></a>"
      ]
    },
    {
      "cell_type": "markdown",
      "metadata": {
        "id": "XiHrTgbQXxde"
      },
      "source": [
        "# MIR assignment 01 - Basic flow in an exemplary MIR classification research task "
      ]
    },
    {
      "cell_type": "markdown",
      "metadata": {
        "id": "JiCRomFObT5O"
      },
      "source": [
        "## Instructions\n",
        "In this assignment you should understand and reproduce the instrument classification experiment presented in [this jupyter notebook](https://github.com/MTG/MIRCourse/blob/master/notebooks/Lecture1_IntroWithACaseStudy.ipynb), and then adapt the notebook to another instrument classification task, one using the [Mridangam Stroke dataset](https://zenodo.org/record/4068196). The goal is to automatically recognize the 10 different stroke classes or the 6 different tonic classes present in the dataset (you choose), trying to obtain the best possible accuracy. For both tasks you should use the whole dataset.  \n",
        "\n",
        "The goal of the assignment is to understand and be able to implement all the steps involved in a typical audio-based classification problem. Thus, understanding all the steps involved in designing the experiment and making the best choices for a given task. You should briefly explain within the submitted notebook, all the decisions taken in every step of the experiment.  \n",
        "\n",
        "You can optionally add a step of feature selection. Feature selection is the removal of redundancies in features, lowering the dimensionality of the feature space. Effective feature selection can improve performance of a classifier and would lower memory and computation requirements.\n",
        "\n",
        "- Increase the number of classes to 8 (either use more classes from UIOWA:MIS dataset or continue with the Mridangam dataset)\n",
        "\n",
        "- Add a feature selection step in the process (most critical part)\n",
        "\n",
        "- Observe and report its contribution, discuss your observations"
      ]
    },
    {
      "cell_type": "markdown",
      "metadata": {
        "id": "Lpcj6CrKbusq"
      },
      "source": [
        "## About the structure of this notebook\n",
        "\n",
        "The author has chosen to implement the necessary code for the following tasks:\n",
        "1. Tonic classification of the Mridangam Stroke dataset\n",
        "2. Stroke classification of the Mridangam Stroke dataset\n",
        "\n",
        "Additionally, some techniques for **feature selection** and **class imbalance** are addressed to evaluate their impact in the aforementioned tasks."
      ]
    },
    {
      "cell_type": "markdown",
      "metadata": {
        "id": "Qfh8u0jpiFRk"
      },
      "source": [
        "# Installing Essentia  \n",
        "Essentia is an open-source library and tools for audio and music analysis, description and synthesis whose documentation can be found [here](https://essentia.upf.edu/)."
      ]
    },
    {
      "cell_type": "code",
      "metadata": {
        "id": "rrNPkqK6b1gY"
      },
      "source": [
        "# Installs Essentia if it's not installed yet\n",
        "import importlib.util\n",
        "if importlib.util.find_spec('essentia') is None:\n",
        "  !pip install essentia"
      ],
      "execution_count": 2,
      "outputs": []
    },
    {
      "cell_type": "markdown",
      "metadata": {
        "id": "jrOZrrI8jvbi"
      },
      "source": [
        "# Imports  \n",
        "Some other dependencies that are going to be used for the different sections of this notebook."
      ]
    },
    {
      "cell_type": "code",
      "metadata": {
        "id": "LWJEAxU8jvZk"
      },
      "source": [
        "import os, sys, shutil, zipfile, requests, time\n",
        "import numpy as np\n",
        "import pandas as pd\n",
        "import matplotlib.pyplot as plt\n",
        "import essentia.standard as ess\n",
        "import seaborn as sns\n",
        "from tqdm.notebook import tqdm # helps to create progress bars during loops\n",
        "from pathlib import Path\n",
        "from IPython.display import display, Markdown"
      ],
      "execution_count": 4,
      "outputs": []
    },
    {
      "cell_type": "markdown",
      "metadata": {
        "id": "xpdafhXEg58X"
      },
      "source": [
        "# Dataset acquisition  \n",
        "The code in the following sections downloads and uncompresses the Mridangam Stroke dataset, locating it inside the corresponding folder for reading and further processing of the audio files.  \n",
        "\n",
        "The dataset is comprised of 6 tonic classes and 10 stroke classes named under the following conventions:\n",
        "\n",
        "> StrokeName_Tonic_InstanceNumber.wav  \n",
        "> Tonic = {B, C, Csh, D, Dsh, E}  \n",
        "> StrokeName = {Bheem, Cha, Dheem, Dhin, Num, Ta, Tha, Tham, Thi, Thom}\n",
        "\n",
        "Additional description about the dataset can be found [here](https://zenodo.org/record/4068196#.YBINk3dKjQg)."
      ]
    },
    {
      "cell_type": "markdown",
      "metadata": {
        "id": "0F0Ah6dpkUZP"
      },
      "source": [
        "## Download helper function  \n",
        "The following function is created in order to download the dataset appropriately."
      ]
    },
    {
      "cell_type": "code",
      "metadata": {
        "id": "esNzZZ19kYRI"
      },
      "source": [
        "def download_content(url=None, filename=None, dir='data', chunk_size=1024, unzip=False, delete_original=False, delete_postflight=[]):\n",
        "  \"\"\" Downloads the dataset to a local folder, unzip it and get rids of\n",
        "      unnecessary content if necessary.\n",
        "\n",
        "      Args:\n",
        "          url (str):                Link of the downloadable dataset.\n",
        "          filename (str):           Name to be given to the dataset file.\n",
        "          dir (str):                Folder where the dataset is stored.\n",
        "          chunk_size (int):         Chunk size for the download streaming.\n",
        "          unzip (bool):             Unzip after download is completed.\n",
        "          delete_original (bool):   If True, deletes original file after it is uncompressed.\n",
        "          delete_postflight (list): List of strings containing folders to be deleted after\n",
        "              the file is downloaded and unziped.\n",
        "  \"\"\"\n",
        "  r = requests.get(url, stream=True)\n",
        "\n",
        "  try:\n",
        "    total_size = int(r.headers['content-length'])\n",
        "  except:\n",
        "    total_size = chunk_size    # Content-length may be unknown if the source will only stream the file\n",
        "\n",
        "  filepath = os.path.join(dir, filename)\n",
        "\n",
        "  # Make folder if it does not exist\n",
        "  if not os.path.exists(dir):\n",
        "    os.mkdir(dir)\n",
        "\n",
        "  # Download the content\n",
        "  with open(filepath, 'wb') as file:\n",
        "    for data in tqdm(iterable=r.iter_content(chunk_size=chunk_size), total=(total_size / chunk_size), unit='MB'):\n",
        "      file.write(data)\n",
        "    \n",
        "  print(f'Content successfully downloaded to {filepath}')\n",
        "\n",
        "  # Unzip file\n",
        "  if unzip:\n",
        "    print(f'Uncompressing {filename}...')\n",
        "    zip_extractor = zipfile.ZipFile(filepath, 'r')\n",
        "    zip_extractor.extractall(dir)\n",
        "    zip_extractor.close()\n",
        "    print(f'Uncompressed file saved to {dir}...')\n",
        "\n",
        "  # Delete original folder\n",
        "  if delete_original:\n",
        "    print(f'Deleting original file {filepath}...')\n",
        "    os.remove(filepath)\n",
        "\n",
        "  # Delete other unnecessary folders\n",
        "  if delete_postflight:\n",
        "    for item in delete_postflight:\n",
        "      item_path = os.path.join(dir, item)\n",
        "      if os.path.exists(item_path):\n",
        "        print(f'Deleting unnecessary item {item_path}')\n",
        "        shutil.rmtree(item_path)\n",
        "\n",
        "  print('Operation completed!')"
      ],
      "execution_count": 43,
      "outputs": []
    },
    {
      "cell_type": "markdown",
      "metadata": {
        "id": "c3FrwqUrkjlB"
      },
      "source": [
        "## Dataset related definitions  \n",
        "Some dataset related constants are stored to be used in later steps."
      ]
    },
    {
      "cell_type": "code",
      "metadata": {
        "id": "5i4RSHJbm136"
      },
      "source": [
        "BASE_DIR = os.path.dirname(os.path.abspath('__file__'))\n",
        "DATA_ROOT = os.path.join(BASE_DIR, 'data')\n",
        "DATASET_URL = 'https://zenodo.org/record/4068196/files/mridangam_stroke_1.5.zip'\n",
        "DATASET_NAME = os.path.splitext(os.path.basename(DATASET_URL))[0]\n",
        "DATASET_ROOT = os.path.join(DATA_ROOT, DATASET_NAME)\n",
        "DATASET_FS = 44100\n",
        "\n",
        "# If true, data.csv will be obtained and therefore feature extraction\n",
        "# with Essentia will not be re-computed to save some time executing this notebook.\n",
        "# The dataset will still be downloaded to visualize the files.\n",
        "DOWNLOAD_PRECOMPUTED_DATA = True\n",
        "PRECOMPUTED_DATA_URL = 'https://drive.google.com/file/d/1oT62rh-VOxWq5dGr6W2O5vC6t77Kl2R3/view?usp=sharing'\n",
        "\n",
        "# A dict to pattern match file names\n",
        "TONIC_CLASSES = {\n",
        "    '-b-':    'b',\n",
        "    '-c-':    'c',\n",
        "    '-csh-':  'c#',\n",
        "    '-d-':    'd',\n",
        "    '-dsh-':  'd#',\n",
        "    '-e-':    'e',\n",
        "}\n",
        "\n",
        "STROKE_CLASSES = {\n",
        "    '_bheem-':  'bheem',\n",
        "    '_cha-':    'cha',\n",
        "    '_dheem-':  'dheem',\n",
        "    '_dhin-':   'dhin',\n",
        "    '_num-':    'num',\n",
        "    '_ta-':     'ta',\n",
        "    '_tha-':    'tha',\n",
        "    '_tham-':   'tham',\n",
        "    '_thi-':    'thi',\n",
        "    '_thom-':   'thom',\n",
        "}"
      ],
      "execution_count": 37,
      "outputs": []
    },
    {
      "cell_type": "markdown",
      "metadata": {
        "id": "LJOHpg8km8ND"
      },
      "source": [
        "## Download the dataset  \n",
        "Downloads and uncompresses the dataset at the given location. If `DOWNLOAD_PRECOMPUTED_DATA` is set to `True` in the previous cell, the file containing precomputed Essentia features will be downloaded in order to save time. In either case, the dataset will still be downloaded to compute visualizations of its content."
      ]
    },
    {
      "cell_type": "code",
      "metadata": {
        "colab": {
          "base_uri": "https://localhost:8080/",
          "height": 251,
          "referenced_widgets": [
            "0b073a8a0d0248b590dcd71af1ca22fc",
            "fa27b0ca78d6473f8bfb1d6e5d4a5e81",
            "d2d8f15cd4c044a5b0ef764f57c9c57a",
            "1c195d0cfd4f46009e26c12c9741f973",
            "55e9d7bbbbf149a6a5ff853be7a5f062",
            "eba85a6dd19045c0a7026392664df319",
            "18c04d54618a49d0b9b702982d987a08",
            "7a7d900d0f24464a919f28ef0cb9e451",
            "cd0e83d9ad4d473c8cd459ca59d8f292",
            "f732c50d675448f5a76a6b6ceb99d52a",
            "f3f260cfa0c3485ba91c631a870dc7c2",
            "e7b8880c2902412a9657e813196cabff",
            "8587904c83dd4ae392ff90f68d04a64b",
            "6022d980a21f41ebb2a55e10783819bc",
            "737c0551f57f407599342e05d1cf64a7",
            "9f2c5ba47697464b800523ae56f3cdc1"
          ]
        },
        "id": "t_CHRKxTnQ_N",
        "outputId": "7cda223b-adfc-4429-a314-40bd20c669a7"
      },
      "source": [
        "download_content(url=DATASET_URL, \n",
        "                 filename=DATASET_URL.split('/')[-1], \n",
        "                 dir=DATA_ROOT,\n",
        "                 unzip=True,\n",
        "                 delete_original=True,\n",
        "                 delete_postflight=['__MACOSX'])\n",
        "\n",
        "if DOWNLOAD_PRECOMPUTED_DATA:\n",
        "    download_content(url=PRECOMPUTED_DATA_URL, \n",
        "                     filename='data.csv', \n",
        "                     dir=DATASET_ROOT)"
      ],
      "execution_count": 44,
      "outputs": [
        {
          "output_type": "display_data",
          "data": {
            "application/vnd.jupyter.widget-view+json": {
              "model_id": "0b073a8a0d0248b590dcd71af1ca22fc",
              "version_minor": 0,
              "version_major": 2
            },
            "text/plain": [
              "HBox(children=(FloatProgress(value=0.0, max=127227.2578125), HTML(value='')))"
            ]
          },
          "metadata": {
            "tags": []
          }
        },
        {
          "output_type": "stream",
          "text": [
            "\n",
            "Content successfully downloaded to /content/data/mridangam_stroke_1.5.zip\n",
            "Uncompressing mridangam_stroke_1.5.zip...\n",
            "Uncompressed file saved to /content/data...\n",
            "Deleting original file /content/data/mridangam_stroke_1.5.zip...\n",
            "Deleting unnecessary item /content/data/__MACOSX\n",
            "Operation completed!\n"
          ],
          "name": "stdout"
        },
        {
          "output_type": "display_data",
          "data": {
            "application/vnd.jupyter.widget-view+json": {
              "model_id": "cd0e83d9ad4d473c8cd459ca59d8f292",
              "version_minor": 0,
              "version_major": 2
            },
            "text/plain": [
              "HBox(children=(FloatProgress(value=0.0, max=1.0), HTML(value='')))"
            ]
          },
          "metadata": {
            "tags": []
          }
        },
        {
          "output_type": "stream",
          "text": [
            "\n",
            "Content successfully downloaded to /content/data/mridangam_stroke_1.5/data.csv\n",
            "Operation completed!\n"
          ],
          "name": "stdout"
        }
      ]
    },
    {
      "cell_type": "markdown",
      "metadata": {
        "id": "eao9ZVYEncEP"
      },
      "source": [
        "# Collecting information from the dataset  \n",
        "Some useful information for the `tonic_class` and `stroke_class` classification tasks is extracted."
      ]
    },
    {
      "cell_type": "markdown",
      "metadata": {
        "id": "uAHvR94dwJGU"
      },
      "source": [
        "## Path mapping helper function  \n",
        "This function will help to match patterns in the filepath to a key from a given `dict`, allowing to exploit dataset naming conventions to classify the data."
      ]
    },
    {
      "cell_type": "code",
      "metadata": {
        "id": "FI6rede8uIEr"
      },
      "source": [
        "def map_path_substr(path, substr_map, default=np.NaN, use_filename=True):\n",
        "  \"\"\" Maps a pattern matched in path to a key found in substr_map.\n",
        "\n",
        "  Args:\n",
        "      path (str):          The path of a file (or folder).\n",
        "      substr_map (dict):   Dictionary containing key/value pairs for mapping.\n",
        "      default:             Default value given to unmapped items.\n",
        "      use_filename (bool): Use filename only and ignore directory.\n",
        "    \n",
        "  Returns:\n",
        "      mapped_val (str): Mapped value obtained from the substr_map.\n",
        "  \"\"\"\n",
        "    mapped_val = default\n",
        "\n",
        "    if use_filename: path = Path(path).stem\n",
        "\n",
        "    for key in substr_map.keys():\n",
        "        if key in path: mapped_val = substr_map[key]\n",
        "  \n",
        "    return mapped_val"
      ],
      "execution_count": 45,
      "outputs": []
    },
    {
      "cell_type": "markdown",
      "metadata": {
        "id": "58fdZotT0wEM"
      },
      "source": [
        "## Parsing dataset file structure  \n",
        "The filenames from the dataset are matched against some patterns to label their `tonic_class` and `stroke_class`. All this information is then stored in a `pd.DataFrame` object."
      ]
    },
    {
      "cell_type": "code",
      "metadata": {
        "colab": {
          "base_uri": "https://localhost:8080/",
          "height": 419
        },
        "id": "FPNk_aiEw8RC",
        "outputId": "85e4bef7-450d-4b39-ba33-a31b81b439da"
      },
      "source": [
        "audiofiles = [os.path.join(root, file) \n",
        "              for root, dirs, files in os.walk(DATASET_ROOT) \n",
        "              for file in files if file.endswith('.wav')]\n",
        "\n",
        "df_audiofiles = pd.DataFrame(audiofiles, columns=['filepath'])\n",
        "df_audiofiles['tonic_class'] = df_audiofiles['filepath'].map(lambda filepath: map_path_substr(filepath, TONIC_CLASSES))\n",
        "df_audiofiles['stroke_class'] = df_audiofiles['filepath'].map(lambda filepath: map_path_substr(filepath, STROKE_CLASSES))\n",
        "\n",
        "pd.set_option('display.max_colwidth', None)  # Avoids truncating filenames while displaying DataFrames\n",
        "display(df_audiofiles)\n",
        "pd.reset_option('display.max_colwidth')  # Return it to normal for later"
      ],
      "execution_count": 69,
      "outputs": [
        {
          "output_type": "display_data",
          "data": {
            "text/html": [
              "<div>\n",
              "<style scoped>\n",
              "    .dataframe tbody tr th:only-of-type {\n",
              "        vertical-align: middle;\n",
              "    }\n",
              "\n",
              "    .dataframe tbody tr th {\n",
              "        vertical-align: top;\n",
              "    }\n",
              "\n",
              "    .dataframe thead th {\n",
              "        text-align: right;\n",
              "    }\n",
              "</style>\n",
              "<table border=\"1\" class=\"dataframe\">\n",
              "  <thead>\n",
              "    <tr style=\"text-align: left;\">\n",
              "      <th></th>\n",
              "      <th>filepath</th>\n",
              "      <th>tonic_class</th>\n",
              "      <th>stroke_class</th>\n",
              "    </tr>\n",
              "  </thead>\n",
              "  <tbody>\n",
              "    <tr>\n",
              "      <th>0</th>\n",
              "      <td>/content/data/mridangam_stroke_1.5/B/224989__akshaylaya__thi-b-208.wav</td>\n",
              "      <td>b</td>\n",
              "      <td>thi</td>\n",
              "    </tr>\n",
              "    <tr>\n",
              "      <th>1</th>\n",
              "      <td>/content/data/mridangam_stroke_1.5/B/224879__akshaylaya__thi-b-098.wav</td>\n",
              "      <td>b</td>\n",
              "      <td>thi</td>\n",
              "    </tr>\n",
              "    <tr>\n",
              "      <th>2</th>\n",
              "      <td>/content/data/mridangam_stroke_1.5/B/224030__akshaylaya__bheem-b-001.wav</td>\n",
              "      <td>b</td>\n",
              "      <td>bheem</td>\n",
              "    </tr>\n",
              "    <tr>\n",
              "      <th>3</th>\n",
              "      <td>/content/data/mridangam_stroke_1.5/B/225348__akshaylaya__thom-b-129.wav</td>\n",
              "      <td>b</td>\n",
              "      <td>thom</td>\n",
              "    </tr>\n",
              "    <tr>\n",
              "      <th>4</th>\n",
              "      <td>/content/data/mridangam_stroke_1.5/B/224451__akshaylaya__ta-b-103.wav</td>\n",
              "      <td>b</td>\n",
              "      <td>ta</td>\n",
              "    </tr>\n",
              "    <tr>\n",
              "      <th>...</th>\n",
              "      <td>...</td>\n",
              "      <td>...</td>\n",
              "      <td>...</td>\n",
              "    </tr>\n",
              "    <tr>\n",
              "      <th>6972</th>\n",
              "      <td>/content/data/mridangam_stroke_1.5/D/227900__akshaylaya__ta-d-105.wav</td>\n",
              "      <td>d</td>\n",
              "      <td>ta</td>\n",
              "    </tr>\n",
              "    <tr>\n",
              "      <th>6973</th>\n",
              "      <td>/content/data/mridangam_stroke_1.5/D/228007__akshaylaya__tha-d-032.wav</td>\n",
              "      <td>d</td>\n",
              "      <td>tha</td>\n",
              "    </tr>\n",
              "    <tr>\n",
              "      <th>6974</th>\n",
              "      <td>/content/data/mridangam_stroke_1.5/D/228295__akshaylaya__thi-d-067.wav</td>\n",
              "      <td>d</td>\n",
              "      <td>thi</td>\n",
              "    </tr>\n",
              "    <tr>\n",
              "      <th>6975</th>\n",
              "      <td>/content/data/mridangam_stroke_1.5/D/227795__akshaylaya__num-d-018.wav</td>\n",
              "      <td>d</td>\n",
              "      <td>num</td>\n",
              "    </tr>\n",
              "    <tr>\n",
              "      <th>6976</th>\n",
              "      <td>/content/data/mridangam_stroke_1.5/D/228248__akshaylaya__thi-d-020.wav</td>\n",
              "      <td>d</td>\n",
              "      <td>thi</td>\n",
              "    </tr>\n",
              "  </tbody>\n",
              "</table>\n",
              "<p>6977 rows × 3 columns</p>\n",
              "</div>"
            ],
            "text/plain": [
              "     filepath                                                                   ... stroke_class\n",
              "0       /content/data/mridangam_stroke_1.5/B/224989__akshaylaya__thi-b-208.wav  ...    thi      \n",
              "1       /content/data/mridangam_stroke_1.5/B/224879__akshaylaya__thi-b-098.wav  ...    thi      \n",
              "2     /content/data/mridangam_stroke_1.5/B/224030__akshaylaya__bheem-b-001.wav  ...  bheem      \n",
              "3      /content/data/mridangam_stroke_1.5/B/225348__akshaylaya__thom-b-129.wav  ...   thom      \n",
              "4        /content/data/mridangam_stroke_1.5/B/224451__akshaylaya__ta-b-103.wav  ...     ta      \n",
              "...                                                                        ...  ...          ...\n",
              "6972     /content/data/mridangam_stroke_1.5/D/227900__akshaylaya__ta-d-105.wav  ...     ta      \n",
              "6973    /content/data/mridangam_stroke_1.5/D/228007__akshaylaya__tha-d-032.wav  ...    tha      \n",
              "6974    /content/data/mridangam_stroke_1.5/D/228295__akshaylaya__thi-d-067.wav  ...    thi      \n",
              "6975    /content/data/mridangam_stroke_1.5/D/227795__akshaylaya__num-d-018.wav  ...    num      \n",
              "6976    /content/data/mridangam_stroke_1.5/D/228248__akshaylaya__thi-d-020.wav  ...    thi      \n",
              "\n",
              "[6977 rows x 3 columns]"
            ]
          },
          "metadata": {
            "tags": []
          }
        }
      ]
    },
    {
      "cell_type": "markdown",
      "metadata": {
        "id": "F9yn2pC4x-ws"
      },
      "source": [
        "## Investigating and preprocessing raw dat"
      ]
    },
    {
      "cell_type": "code",
      "metadata": {
        "id": "_qtq4BNL1W2_"
      },
      "source": [
        ""
      ],
      "execution_count": null,
      "outputs": []
    }
  ]
}