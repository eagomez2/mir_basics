{
  "nbformat": 4,
  "nbformat_minor": 0,
  "metadata": {
    "colab": {
      "name": "eagomez_assignment01-exemplary_mir_workflow.ipynb",
      "provenance": [],
      "collapsed_sections": [],
      "authorship_tag": "ABX9TyOYC4E6XPq6iiMsA0chNcHa",
      "include_colab_link": true
    },
    "kernelspec": {
      "name": "python3",
      "display_name": "Python 3"
    },
    "widgets": {
      "application/vnd.jupyter.widget-state+json": {
        "e9a81e182fa948c4957613b42c390a67": {
          "model_module": "@jupyter-widgets/controls",
          "model_name": "HBoxModel",
          "state": {
            "_view_name": "HBoxView",
            "_dom_classes": [],
            "_model_name": "HBoxModel",
            "_view_module": "@jupyter-widgets/controls",
            "_model_module_version": "1.5.0",
            "_view_count": null,
            "_view_module_version": "1.5.0",
            "box_style": "",
            "layout": "IPY_MODEL_feaf366fc422466a8904e88fd6e817f5",
            "_model_module": "@jupyter-widgets/controls",
            "children": [
              "IPY_MODEL_a4a1e9f78fd4480682263649a34aca85",
              "IPY_MODEL_f2c5cc9e7dce4c37b37387f84b724f4e"
            ]
          }
        },
        "feaf366fc422466a8904e88fd6e817f5": {
          "model_module": "@jupyter-widgets/base",
          "model_name": "LayoutModel",
          "state": {
            "_view_name": "LayoutView",
            "grid_template_rows": null,
            "right": null,
            "justify_content": null,
            "_view_module": "@jupyter-widgets/base",
            "overflow": null,
            "_model_module_version": "1.2.0",
            "_view_count": null,
            "flex_flow": null,
            "width": null,
            "min_width": null,
            "border": null,
            "align_items": null,
            "bottom": null,
            "_model_module": "@jupyter-widgets/base",
            "top": null,
            "grid_column": null,
            "overflow_y": null,
            "overflow_x": null,
            "grid_auto_flow": null,
            "grid_area": null,
            "grid_template_columns": null,
            "flex": null,
            "_model_name": "LayoutModel",
            "justify_items": null,
            "grid_row": null,
            "max_height": null,
            "align_content": null,
            "visibility": null,
            "align_self": null,
            "height": null,
            "min_height": null,
            "padding": null,
            "grid_auto_rows": null,
            "grid_gap": null,
            "max_width": null,
            "order": null,
            "_view_module_version": "1.2.0",
            "grid_template_areas": null,
            "object_position": null,
            "object_fit": null,
            "grid_auto_columns": null,
            "margin": null,
            "display": null,
            "left": null
          }
        },
        "a4a1e9f78fd4480682263649a34aca85": {
          "model_module": "@jupyter-widgets/controls",
          "model_name": "FloatProgressModel",
          "state": {
            "_view_name": "ProgressView",
            "style": "IPY_MODEL_a3fbfa942bad4127b26009bea5942247",
            "_dom_classes": [],
            "description": "",
            "_model_name": "FloatProgressModel",
            "bar_style": "success",
            "max": 127227.2578125,
            "_view_module": "@jupyter-widgets/controls",
            "_model_module_version": "1.5.0",
            "value": 127227.2578125,
            "_view_count": null,
            "_view_module_version": "1.5.0",
            "orientation": "horizontal",
            "min": 0,
            "description_tooltip": null,
            "_model_module": "@jupyter-widgets/controls",
            "layout": "IPY_MODEL_f3038fa29b1a4d18a153d55c2c9c628a"
          }
        },
        "f2c5cc9e7dce4c37b37387f84b724f4e": {
          "model_module": "@jupyter-widgets/controls",
          "model_name": "HTMLModel",
          "state": {
            "_view_name": "HTMLView",
            "style": "IPY_MODEL_1289602a3c204b18b8b38cd424a60c2f",
            "_dom_classes": [],
            "description": "",
            "_model_name": "HTMLModel",
            "placeholder": "​",
            "_view_module": "@jupyter-widgets/controls",
            "_model_module_version": "1.5.0",
            "value": " 127228/? [00:03&lt;00:00, 36665.27MB/s]",
            "_view_count": null,
            "_view_module_version": "1.5.0",
            "description_tooltip": null,
            "_model_module": "@jupyter-widgets/controls",
            "layout": "IPY_MODEL_dcdae8032b774c8cacf0872a0ea70805"
          }
        },
        "a3fbfa942bad4127b26009bea5942247": {
          "model_module": "@jupyter-widgets/controls",
          "model_name": "ProgressStyleModel",
          "state": {
            "_view_name": "StyleView",
            "_model_name": "ProgressStyleModel",
            "description_width": "initial",
            "_view_module": "@jupyter-widgets/base",
            "_model_module_version": "1.5.0",
            "_view_count": null,
            "_view_module_version": "1.2.0",
            "bar_color": null,
            "_model_module": "@jupyter-widgets/controls"
          }
        },
        "f3038fa29b1a4d18a153d55c2c9c628a": {
          "model_module": "@jupyter-widgets/base",
          "model_name": "LayoutModel",
          "state": {
            "_view_name": "LayoutView",
            "grid_template_rows": null,
            "right": null,
            "justify_content": null,
            "_view_module": "@jupyter-widgets/base",
            "overflow": null,
            "_model_module_version": "1.2.0",
            "_view_count": null,
            "flex_flow": null,
            "width": null,
            "min_width": null,
            "border": null,
            "align_items": null,
            "bottom": null,
            "_model_module": "@jupyter-widgets/base",
            "top": null,
            "grid_column": null,
            "overflow_y": null,
            "overflow_x": null,
            "grid_auto_flow": null,
            "grid_area": null,
            "grid_template_columns": null,
            "flex": null,
            "_model_name": "LayoutModel",
            "justify_items": null,
            "grid_row": null,
            "max_height": null,
            "align_content": null,
            "visibility": null,
            "align_self": null,
            "height": null,
            "min_height": null,
            "padding": null,
            "grid_auto_rows": null,
            "grid_gap": null,
            "max_width": null,
            "order": null,
            "_view_module_version": "1.2.0",
            "grid_template_areas": null,
            "object_position": null,
            "object_fit": null,
            "grid_auto_columns": null,
            "margin": null,
            "display": null,
            "left": null
          }
        },
        "1289602a3c204b18b8b38cd424a60c2f": {
          "model_module": "@jupyter-widgets/controls",
          "model_name": "DescriptionStyleModel",
          "state": {
            "_view_name": "StyleView",
            "_model_name": "DescriptionStyleModel",
            "description_width": "",
            "_view_module": "@jupyter-widgets/base",
            "_model_module_version": "1.5.0",
            "_view_count": null,
            "_view_module_version": "1.2.0",
            "_model_module": "@jupyter-widgets/controls"
          }
        },
        "dcdae8032b774c8cacf0872a0ea70805": {
          "model_module": "@jupyter-widgets/base",
          "model_name": "LayoutModel",
          "state": {
            "_view_name": "LayoutView",
            "grid_template_rows": null,
            "right": null,
            "justify_content": null,
            "_view_module": "@jupyter-widgets/base",
            "overflow": null,
            "_model_module_version": "1.2.0",
            "_view_count": null,
            "flex_flow": null,
            "width": null,
            "min_width": null,
            "border": null,
            "align_items": null,
            "bottom": null,
            "_model_module": "@jupyter-widgets/base",
            "top": null,
            "grid_column": null,
            "overflow_y": null,
            "overflow_x": null,
            "grid_auto_flow": null,
            "grid_area": null,
            "grid_template_columns": null,
            "flex": null,
            "_model_name": "LayoutModel",
            "justify_items": null,
            "grid_row": null,
            "max_height": null,
            "align_content": null,
            "visibility": null,
            "align_self": null,
            "height": null,
            "min_height": null,
            "padding": null,
            "grid_auto_rows": null,
            "grid_gap": null,
            "max_width": null,
            "order": null,
            "_view_module_version": "1.2.0",
            "grid_template_areas": null,
            "object_position": null,
            "object_fit": null,
            "grid_auto_columns": null,
            "margin": null,
            "display": null,
            "left": null
          }
        }
      }
    }
  },
  "cells": [
    {
      "cell_type": "markdown",
      "metadata": {
        "id": "view-in-github",
        "colab_type": "text"
      },
      "source": [
        "<a href=\"https://colab.research.google.com/github/eagomez2/mir_basics/blob/main/eagomez_assignment01_exemplary_mir_workflow.ipynb\" target=\"_parent\"><img src=\"https://colab.research.google.com/assets/colab-badge.svg\" alt=\"Open In Colab\"/></a>"
      ]
    },
    {
      "cell_type": "markdown",
      "metadata": {
        "id": "XiHrTgbQXxde"
      },
      "source": [
        "# MIR assignment 01 - Basic flow in an exemplary MIR classification research task "
      ]
    },
    {
      "cell_type": "markdown",
      "metadata": {
        "id": "JiCRomFObT5O"
      },
      "source": [
        "## Instructions\n",
        "In this assignment you should understand and reproduce the instrument classification experiment presented in [this jupyter notebook](https://github.com/MTG/MIRCourse/blob/master/notebooks/Lecture1_IntroWithACaseStudy.ipynb), and then adapt the notebook to another instrument classification task, one using the [Mridangam Stroke dataset](https://zenodo.org/record/4068196). The goal is to automatically recognize the 10 different stroke classes or the 6 different tonic classes present in the dataset (you choose), trying to obtain the best possible accuracy. For both tasks you should use the whole dataset.  \n",
        "\n",
        "The goal of the assignment is to understand and be able to implement all the steps involved in a typical audio-based classification problem. Thus, understanding all the steps involved in designing the experiment and making the best choices for a given task. You should briefly explain within the submitted notebook, all the decisions taken in every step of the experiment.  \n",
        "\n",
        "You can optionally add a step of feature selection. Feature selection is the removal of redundancies in features, lowering the dimensionality of the feature space. Effective feature selection can improve performance of a classifier and would lower memory and computation requirements.\n",
        "\n",
        "- Increase the number of classes to 8 (either use more classes from UIOWA:MIS dataset or continue with the Mridangam dataset)\n",
        "\n",
        "- Add a feature selection step in the process (most critical part)\n",
        "\n",
        "- Observe and report its contribution, discuss your observations"
      ]
    },
    {
      "cell_type": "markdown",
      "metadata": {
        "id": "Lpcj6CrKbusq"
      },
      "source": [
        "## About the structure of this notebook\n",
        "\n",
        "The author has chosen to implement the necessary code for the following tasks:\n",
        "1. Tonic classification of the Mridangam Stroke dataset\n",
        "2. Stroke classification of the Mridangam Stroke dataset\n",
        "\n",
        "Additionally, some techniques for **feature selection** and **class imbalance** are addressed to evaluate their impact in the aforementioned tasks."
      ]
    },
    {
      "cell_type": "markdown",
      "metadata": {
        "id": "Qfh8u0jpiFRk"
      },
      "source": [
        "# Installing Essentia  \n",
        "Essentia is an open-source library and tools for audio and music analysis, description and synthesis whose documentation can be found [here](https://essentia.upf.edu/)."
      ]
    },
    {
      "cell_type": "code",
      "metadata": {
        "id": "rrNPkqK6b1gY"
      },
      "source": [
        "# Installs Essentia if it's not installed yet\n",
        "import importlib.util\n",
        "if importlib.util.find_spec('essentia') is None:\n",
        "  !pip install essentia"
      ],
      "execution_count": 2,
      "outputs": []
    },
    {
      "cell_type": "markdown",
      "metadata": {
        "id": "jrOZrrI8jvbi"
      },
      "source": [
        "# Imports  \n",
        "Some other dependencies that are going to be used for the different sections of this notebook."
      ]
    },
    {
      "cell_type": "code",
      "metadata": {
        "id": "LWJEAxU8jvZk"
      },
      "source": [
        "import os, sys, shutil, zipfile, requests, time\n",
        "import numpy as np\n",
        "import pandas as pd\n",
        "import matplotlib.pyplot as plt\n",
        "import essentia.standard as ess\n",
        "import seaborn as sns\n",
        "from tqdm.notebook import tqdm # helps to create progress bars during loops\n",
        "from pathlib import Path\n",
        "from IPython.display import display, Markdown"
      ],
      "execution_count": 4,
      "outputs": []
    },
    {
      "cell_type": "markdown",
      "metadata": {
        "id": "xpdafhXEg58X"
      },
      "source": [
        "# Dataset acquisition  \n",
        "The code in the following sections downloads and uncompresses the Mridangam Stroke dataset, locating it inside the corresponding folder for reading and further processing of the audio files.  \n",
        "\n",
        "The dataset is comprised of 6 tonic classes and 10 stroke classes named under the following conventions:\n",
        "\n",
        "> StrokeName_Tonic_InstanceNumber.wav  \n",
        "> Tonic = {B, C, Csh, D, Dsh, E}  \n",
        "> StrokeName = {Bheem, Cha, Dheem, Dhin, Num, Ta, Tha, Tham, Thi, Thom}\n",
        "\n",
        "Additional description about the dataset can be found [here](https://zenodo.org/record/4068196#.YBINk3dKjQg)."
      ]
    },
    {
      "cell_type": "markdown",
      "metadata": {
        "id": "0F0Ah6dpkUZP"
      },
      "source": [
        "## Download helper function  \n",
        "The following function is created in order to download the dataset appropriately."
      ]
    },
    {
      "cell_type": "code",
      "metadata": {
        "id": "esNzZZ19kYRI"
      },
      "source": [
        "def download_dataset(url=None, filename=None, dir='data', chunk_size=1024, unzip=True, delete_original=True, delete_postflight=['__MACOSX']):\n",
        "  \"\"\" Downloads the dataset to a local folder, unzip it and get rids of\n",
        "      unnecessary content if necessary.\n",
        "\n",
        "      Args:\n",
        "          url (str):                Link of the downloadable dataset.\n",
        "          filename (str):           Name to be given to the dataset file.\n",
        "          dir (str):                Folder where the dataset is stored.\n",
        "          chunk_size (int):         Chunk size for the download streaming.\n",
        "          unzip (bool):             Unzip after download is completed.\n",
        "          delete_original (bool):   If True, deletes original file after it is uncompressed.\n",
        "          delete_postflight (list): List of strings containing folders to be deleted after\n",
        "              the file is downloaded and unziped.\n",
        "  \"\"\"\n",
        "  r = requests.get(url, stream=True)\n",
        "  total_size = int(r.headers['content-length'])\n",
        "  filepath = os.path.join(dir, filename)\n",
        "\n",
        "  # Make folder if it does not exist\n",
        "  if not os.path.exists(dir):\n",
        "    os.mkdir(dir)\n",
        "\n",
        "  # Download the content\n",
        "  with open(filepath, 'wb') as file:\n",
        "    for data in tqdm(iterable=r.iter_content(chunk_size=chunk_size), total=(total_size / chunk_size), unit='MB'):\n",
        "      file.write(data)\n",
        "    \n",
        "  print(f'Dataset successfully downloaded to {filepath}')\n",
        "\n",
        "  # Unzip file\n",
        "  if unzip:\n",
        "    print(f'Uncompressing {filename}...')\n",
        "    zip_extractor = zipfile.ZipFile(filepath, 'r')\n",
        "    zip_extractor.extractall(dir)\n",
        "    zip_extractor.close()\n",
        "    print(f'Uncompressed file saved to {dir}...')\n",
        "\n",
        "  # Delete original folder\n",
        "  if delete_original:\n",
        "    print(f'Deleting original file {filepath}...')\n",
        "    os.remove(filepath)\n",
        "\n",
        "  # Delete other unnecessary folders\n",
        "  if delete_postflight:\n",
        "    for item in delete_postflight:\n",
        "      item_path = os.path.join(dir, item)\n",
        "      if os.path.exists(item_path):\n",
        "        print(f'Deleting unnecessary item {item_path}')\n",
        "        shutil.rmtree(item_path)\n",
        "\n",
        "  print('Operation completed!')"
      ],
      "execution_count": 6,
      "outputs": []
    },
    {
      "cell_type": "markdown",
      "metadata": {
        "id": "c3FrwqUrkjlB"
      },
      "source": [
        "## Dataset related definitions  \n",
        "Some dataset related constants are stored to be used in later steps."
      ]
    },
    {
      "cell_type": "code",
      "metadata": {
        "id": "5i4RSHJbm136"
      },
      "source": [
        "BASE_DIR = os.path.dirname(os.path.abspath('__file__'))\n",
        "DATA_ROOT = os.path.join(BASE_DIR, 'data')\n",
        "DATASET_URL = 'https://zenodo.org/record/4068196/files/mridangam_stroke_1.5.zip'\n",
        "DATASET_NAME = os.path.splitext(os.path.basename(DATASET_URL))[0]\n",
        "DATASET_ROOT = os.path.join(DATA_ROOT, DATASET_NAME)\n",
        "DATASET_FS = 44100\n",
        "\n",
        "# A dict to pattern match file names\n",
        "TONIC_CLASSES = {\n",
        "    '-b-':    'b',\n",
        "    '-c-':    'c',\n",
        "    '-csh-':  'c#',\n",
        "    '-d-':    'd',\n",
        "    '-dsh-':  'd#',\n",
        "    '-e-':    'e',\n",
        "}\n",
        "\n",
        "STROKE_CLASSES = {\n",
        "    '_bheem-':  'bheem',\n",
        "    '_cha-':    'cha',\n",
        "    '_dheem-':  'dheem',\n",
        "    '_dhin-':   'dhin',\n",
        "    '_num-':    'num',\n",
        "    '_ta-':     'ta',\n",
        "    '_tha-':    'tha',\n",
        "    '_tham-':   'tham',\n",
        "    '_thi-':    'thi',\n",
        "    '_thom-':   'thom',\n",
        "}"
      ],
      "execution_count": 8,
      "outputs": []
    },
    {
      "cell_type": "markdown",
      "metadata": {
        "id": "LJOHpg8km8ND"
      },
      "source": [
        "## Download the dataset  \n",
        "Downloads and uncompresses the dataset at the given location."
      ]
    },
    {
      "cell_type": "code",
      "metadata": {
        "colab": {
          "base_uri": "https://localhost:8080/",
          "height": 168,
          "referenced_widgets": [
            "e9a81e182fa948c4957613b42c390a67",
            "feaf366fc422466a8904e88fd6e817f5",
            "a4a1e9f78fd4480682263649a34aca85",
            "f2c5cc9e7dce4c37b37387f84b724f4e",
            "a3fbfa942bad4127b26009bea5942247",
            "f3038fa29b1a4d18a153d55c2c9c628a",
            "1289602a3c204b18b8b38cd424a60c2f",
            "dcdae8032b774c8cacf0872a0ea70805"
          ]
        },
        "id": "t_CHRKxTnQ_N",
        "outputId": "fc136eb4-66d0-4256-fdfd-190fe93e08c8"
      },
      "source": [
        "download_dataset(url=DATASET_URL, filename=DATASET_URL.split('/')[-1], dir=DATA_ROOT)"
      ],
      "execution_count": 9,
      "outputs": [
        {
          "output_type": "display_data",
          "data": {
            "application/vnd.jupyter.widget-view+json": {
              "model_id": "e9a81e182fa948c4957613b42c390a67",
              "version_minor": 0,
              "version_major": 2
            },
            "text/plain": [
              "HBox(children=(FloatProgress(value=0.0, max=127227.2578125), HTML(value='')))"
            ]
          },
          "metadata": {
            "tags": []
          }
        },
        {
          "output_type": "stream",
          "text": [
            "\n",
            "Dataset successfully downloaded to /content/data/mridangam_stroke_1.5.zip\n",
            "Uncompressing mridangam_stroke_1.5.zip...\n",
            "Uncompressed file saved to /content/data...\n",
            "Deleting original file /content/data/mridangam_stroke_1.5.zip...\n",
            "Deleting unnecessary item /content/data/__MACOSX\n",
            "Operation completed!\n"
          ],
          "name": "stdout"
        }
      ]
    },
    {
      "cell_type": "code",
      "metadata": {
        "colab": {
          "base_uri": "https://localhost:8080/"
        },
        "id": "eao9ZVYEncEP",
        "outputId": "c588f9ca-29cf-42ee-edad-17bcebb8f389"
      },
      "source": [
        ""
      ],
      "execution_count": 11,
      "outputs": [
        {
          "output_type": "execute_result",
          "data": {
            "text/plain": [
              "True"
            ]
          },
          "metadata": {
            "tags": []
          },
          "execution_count": 11
        }
      ]
    }
  ]
}